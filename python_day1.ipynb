{
  "nbformat": 4,
  "nbformat_minor": 0,
  "metadata": {
    "colab": {
      "provenance": [],
      "authorship_tag": "ABX9TyNr5wYs+pM9N9cJeM3wK3YL",
      "include_colab_link": true
    },
    "kernelspec": {
      "name": "python3",
      "display_name": "Python 3"
    },
    "language_info": {
      "name": "python"
    }
  },
  "cells": [
    {
      "cell_type": "markdown",
      "metadata": {
        "id": "view-in-github",
        "colab_type": "text"
      },
      "source": [
        "<a href=\"https://colab.research.google.com/github/n-prathyusha82/problem_solving-HackerRank-/blob/main/python_day1.ipynb\" target=\"_parent\"><img src=\"https://colab.research.google.com/assets/colab-badge.svg\" alt=\"Open In Colab\"/></a>"
      ]
    },
    {
      "cell_type": "markdown",
      "source": [
        "**1.You are given the firstname and lastname of a person on two different lines. Your task is to read them and print the following:\n",
        "Hello firstname lastname! You just delved into python.\n",
        "Function Description:\n",
        "Complete the print_full_name function in the editor below.\n",
        "print_full_name has the following parameters:\n",
        "string first: the first name,\n",
        "string last: the last name\n",
        "Prints:\n",
        "string: 'Hello  ! You just delved into python' where  and  are replaced with  and .\n",
        "Input Format:\n",
        "The first line contains the first name, and the second line contains the last name.\n",
        "Constraints:\n",
        "The length of the first and last names are each ≤10.\n",
        "Sample Input 0:\n",
        "Ross\n",
        "Taylor\n",
        "Sample Output 0:\n",
        "Hello Ross Taylor! You just delved into python.\n",
        "Explanation 0:\n",
        "The input read by the program is stored as a string data type. A string is a collection of characters.**"
      ],
      "metadata": {
        "id": "2PYtCrf98UUo"
      }
    },
    {
      "cell_type": "code",
      "source": [
        "def print_full_name(first_name, last_name):\n",
        "  print(f\"Hello {first_name} {last_name}! You just delved into python\")\n",
        "first_name = input()\n",
        "last_name = input()\n",
        "print_full_name(first_name, last_name)"
      ],
      "metadata": {
        "colab": {
          "base_uri": "https://localhost:8080/"
        },
        "id": "uiDco44a9YV2",
        "outputId": "d7a6df62-f5b7-4613-cfe5-1b2f43f92024"
      },
      "execution_count": 2,
      "outputs": [
        {
          "output_type": "stream",
          "name": "stdout",
          "text": [
            "Ross\n",
            "Taylor\n",
            "Hello Ross Taylor! You just delved into python\n"
          ]
        }
      ]
    },
    {
      "cell_type": "markdown",
      "source": [
        "**2.You are given a string. Split the string on a \" \" (space) delimiter and join using a - hyphen.\n",
        "Function Description:\n",
        "Complete the split_and_join function in the editor below.\n",
        "split_and_join has the following parameters:\n",
        "string line: a string of space-separated words\n",
        "Returns:\n",
        "string: the resulting string\n",
        "Input Format:\n",
        "The one line contains a string consisting of space separated words.\n",
        "Sample Input:\n",
        "this is a string,  \n",
        "Sample Output:\n",
        "this-is-a-string**"
      ],
      "metadata": {
        "id": "8BIMBtWr_R-w"
      }
    },
    {
      "cell_type": "code",
      "source": [
        "def split_and_join(line):\n",
        "  words = line.split(\" \")\n",
        "  return \"-\".join(words)\n",
        "line = input()\n",
        "print(split_and_join(line))"
      ],
      "metadata": {
        "colab": {
          "base_uri": "https://localhost:8080/"
        },
        "id": "IxcO9HX3_sQf",
        "outputId": "e8cd3d4a-b5a5-4eb5-98a2-acee11a3b2e6"
      },
      "execution_count": 3,
      "outputs": [
        {
          "output_type": "stream",
          "name": "stdout",
          "text": [
            "this isi a string\n",
            "this-isi-a-string\n"
          ]
        }
      ]
    },
    {
      "cell_type": "markdown",
      "source": [
        "**3.You are given a string and your task is to swap cases. In other words, convert all lowercase letters to uppercase letters and vice versa.\n",
        "For Example:\n",
        "Www.HackerRank.com → wWW.hACKERrANK.COM\n",
        "Pythonist 2 → pYTHONIST 2  \n",
        "Function Description:\n",
        "Complete the swap_case function in the editor below.\n",
        "swap_case has the following parameters:\n",
        "string s: the string to modify\n",
        "Returns:\n",
        "string: the modified string\n",
        "Input Format:\n",
        "A single line containing a string .\n",
        "Constraints:0<len(s)<=1000\n",
        "Sample Input 0:\n",
        "HackerRank.com presents \"Pythonist 2\".\n",
        "Sample Output 0:\n",
        "hACKERrANK.COM PRESENTS \"pYTHONIST 2\".**"
      ],
      "metadata": {
        "id": "BNBz1blbAYQg"
      }
    },
    {
      "cell_type": "code",
      "source": [
        "def swap_case(s):\n",
        "  return s.swapcase()\n",
        "s = input()\n",
        "print(swap_case(s))"
      ],
      "metadata": {
        "colab": {
          "base_uri": "https://localhost:8080/"
        },
        "id": "aJ_RR3kABLkd",
        "outputId": "6d02061e-cc49-4b72-eac4-61188e48aa3b"
      },
      "execution_count": 4,
      "outputs": [
        {
          "output_type": "stream",
          "name": "stdout",
          "text": [
            "HackerRank.com presents \"Pythonist 2\".\n",
            "hACKERrANK.COM PRESENTS \"pYTHONIST 2\".\n"
          ]
        }
      ]
    },
    {
      "cell_type": "markdown",
      "source": [
        "**4.Given an integer,n, and n space-separated integers as input, create a tuple,t, of those n integers. Then compute and print the result of hash(t).\n",
        "Note: hash() is one of the functions in the __builtins__ module, so it need not be imported.\n",
        "Input Format:\n",
        "The first line contains an integer,n, denoting the number of elements in the tuple.\n",
        "The second line contains n   space-separated integers describing the elements in tuple t.\n",
        "Output Format:\n",
        "Print the result of hash(t).\n",
        "Sample Input 0:\n",
        "2\n",
        "1 2\n",
        "Sample Output 0:\n",
        "3713081631934410656**"
      ],
      "metadata": {
        "id": "oym-NTcrCNa_"
      }
    },
    {
      "cell_type": "code",
      "source": [
        "n = int(input())\n",
        "t = tuple(map(int, input().split()))\n",
        "print(hash(t))"
      ],
      "metadata": {
        "colab": {
          "base_uri": "https://localhost:8080/"
        },
        "id": "OiifVmO_DByA",
        "outputId": "88dfcb8d-8f03-437b-fedc-01134a8f4e9b"
      },
      "execution_count": 5,
      "outputs": [
        {
          "output_type": "stream",
          "name": "stdout",
          "text": [
            "2\n",
            "1 2\n",
            "-3550055125485641917\n"
          ]
        }
      ]
    },
    {
      "cell_type": "markdown",
      "source": [
        "**5.Consider a list (list = []). You can perform the following commands:\n",
        "insert i e: Insert integer  at position i.\n",
        "print: Print the list.\n",
        "remove e: Delete the first occurrence of integer e.\n",
        "append e: Insert integer  at the end of the list.\n",
        "sort: Sort the list.\n",
        "pop: Pop the last element from the list.\n",
        "reverse: Reverse the list.\n",
        "Initialize your list and read in the value of n followed by n lines of commands where each command will be of the 7 types listed above. Iterate through each command in order and perform the corresponding operation on your list.\n",
        "Example:\n",
        "N = 4\n",
        "append 1\n",
        "append 2\n",
        "insert 3 1\n",
        "print:\n",
        "Append1: Append1 to the list,arr=[1].\n",
        "Append2: Append 2 to the list,arr=[1,2].\n",
        "insert 3 1: Insert 3 at index 1,arr = [1,3,2].\n",
        "print: Print the array.\n",
        "Output:\n",
        "[1, 3, 2]\n",
        "Input Format:\n",
        "The first line contains an integer,n, denoting the number of commands.\n",
        "Each line i of the n subsequent lines contains one of the commands described above.\n",
        "Constraints:\n",
        "The elements added to the list must be integers.\n",
        "Output Format:\n",
        "For each command of type print, print the list on a new line.\n",
        "Sample Input 0:\n",
        "12\n",
        "insert 0 5\n",
        "insert 1 10\n",
        "insert 0 6\n",
        "print\n",
        "remove 6\n",
        "append 9\n",
        "append 1\n",
        "sort\n",
        "print\n",
        "pop\n",
        "reverse\n",
        "print\n",
        "Sample Output 0:\n",
        "[6, 5, 10],\n",
        "[1, 5, 9, 10],\n",
        "[9, 5, 1]**"
      ],
      "metadata": {
        "id": "NPfJjcd3D_Hp"
      }
    },
    {
      "cell_type": "code",
      "source": [
        "n = int(input())\n",
        "lst = []\n",
        "for _ in range(n):\n",
        "    cmd = input().split()\n",
        "    if cmd[0] == 'insert':\n",
        "        lst.insert(int(cmd[1]), int(cmd[2]))\n",
        "    elif cmd[0] == 'print':\n",
        "        print(lst)\n",
        "    elif cmd[0] == 'remove':\n",
        "        lst.remove(int(cmd[1]))\n",
        "    elif cmd[0] == 'append':\n",
        "        lst.append(int(cmd[1]))\n",
        "    elif cmd[0] == 'sort':\n",
        "        lst.sort()\n",
        "    elif cmd[0] == 'pop':\n",
        "        lst.pop()\n",
        "    elif cmd[0] == 'reverse':\n",
        "        lst.reverse()\n"
      ],
      "metadata": {
        "colab": {
          "base_uri": "https://localhost:8080/"
        },
        "id": "Dcx079sAHU_l",
        "outputId": "363dd320-5032-4923-f794-af77918c587f"
      },
      "execution_count": 6,
      "outputs": [
        {
          "output_type": "stream",
          "name": "stdout",
          "text": [
            "12\n",
            "insert 0 5\n",
            "insert 1 10\n",
            "insert 0 6\n",
            "print\n",
            "[6, 5, 10]\n",
            "remove 6\n",
            "append 9\n",
            "append 1\n",
            "sort\n",
            "print\n",
            "[1, 5, 9, 10]\n",
            "pop\n",
            "reverse\n",
            "print\n",
            "[9, 5, 1]\n"
          ]
        }
      ]
    }
  ]
}