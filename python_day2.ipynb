{
  "nbformat": 4,
  "nbformat_minor": 0,
  "metadata": {
    "colab": {
      "provenance": [],
      "authorship_tag": "ABX9TyM+F/PcpmleLkM/HE4O6sf6",
      "include_colab_link": true
    },
    "kernelspec": {
      "name": "python3",
      "display_name": "Python 3"
    },
    "language_info": {
      "name": "python"
    }
  },
  "cells": [
    {
      "cell_type": "markdown",
      "metadata": {
        "id": "view-in-github",
        "colab_type": "text"
      },
      "source": [
        "<a href=\"https://colab.research.google.com/github/n-prathyusha82/problem_solving-HackerRank-/blob/main/python_day2.ipynb\" target=\"_parent\"><img src=\"https://colab.research.google.com/assets/colab-badge.svg\" alt=\"Open In Colab\"/></a>"
      ]
    },
    {
      "cell_type": "markdown",
      "source": [
        "**1.You are given a string S and width w.\n",
        "Your task is to wrap the string into a paragraph of width w.\n",
        "Function Description:\n",
        "Complete the wrap function in the editor below.\n",
        "wrap has the following parameters:\n",
        "string string: a long string\n",
        "int max_width: the width to wrap to\n",
        "Returns:\n",
        "string: a single string with newline characters ('\\n') where the breaks should be\n",
        "Input Format:\n",
        "The first line contains a string,string.\n",
        "The second line contains the width, maxwidth.\n",
        "Constraints: 0<len(string)<1000,0<maxwidth<len(string).\n",
        "Sample Input 0:\n",
        "ABCDEFGHIJKLIMNOQRSTUVWXYZ\n",
        "4\n",
        "Sample Output 0:\n",
        "ABCD\n",
        "EFGH\n",
        "IJKL\n",
        "IMNO\n",
        "QRST\n",
        "UVWX\n",
        "YZ**"
      ],
      "metadata": {
        "id": "R6Q5470rMCaa"
      }
    },
    {
      "cell_type": "code",
      "source": [
        "import textwrap\n",
        "def wrap(string, max_width):\n",
        "    return \"\\n\".join(textwrap.wrap(string, max_width))\n",
        "\n",
        "if __name__ == '__main__':\n",
        "    string, max_width = input(), int(input())\n",
        "    result = wrap(string, max_width)\n",
        "    print(result)"
      ],
      "metadata": {
        "colab": {
          "base_uri": "https://localhost:8080/"
        },
        "id": "PoqDNW1UO-sl",
        "outputId": "8a6c0587-907a-4d4b-8e1f-1c4b059ac2b2"
      },
      "execution_count": 2,
      "outputs": [
        {
          "output_type": "stream",
          "name": "stdout",
          "text": [
            "ABCDEFGHIJKLMNOPQRSTVUWXYZ\n",
            "4\n",
            "ABCD\n",
            "EFGH\n",
            "IJKL\n",
            "MNOP\n",
            "QRST\n",
            "VUWX\n",
            "YZ\n"
          ]
        }
      ]
    },
    {
      "cell_type": "markdown",
      "source": [
        "**2.You are given a partial code that is used for generating the HackerRank Logo of variable thickness.\n",
        "Your task is to replace the blank (______) with rjust, ljust or center.\n",
        "Input Format:\n",
        "A single line containing the thickness value for the logo.\n",
        "Constraints:\n",
        "The thickness must be an odd number.\n",
        "Output Format:\n",
        "Output the desired logo.\n",
        "Sample Input:\n",
        "5\n",
        "Sample Output:\n",
        "    H    \n",
        "   HHH   \n",
        "  HHHHH  \n",
        " HHHHHHH\n",
        "HHHHHHHHH\n",
        "  HHHHH               HHHHH             \n",
        "  HHHHH               HHHHH             \n",
        "  HHHHH               HHHHH             \n",
        "  HHHHH               HHHHH             \n",
        "  HHHHH               HHHHH             \n",
        "  HHHHH               HHHHH             \n",
        "  HHHHHHHHHHHHHHHHHHHHHHHHH   \n",
        "  HHHHHHHHHHHHHHHHHHHHHHHHH   \n",
        "  HHHHHHHHHHHHHHHHHHHHHHHHH   \n",
        "  HHHHH               HHHHH             \n",
        "  HHHHH               HHHHH             \n",
        "  HHHHH               HHHHH             \n",
        "  HHHHH               HHHHH             \n",
        "  HHHHH               HHHHH             \n",
        "  HHHHH               HHHHH             \n",
        "                    HHHHHHHHH\n",
        "                     HHHHHHH  \n",
        "                      HHHHH   \n",
        "                       HHH    \n",
        "                        H **"
      ],
      "metadata": {
        "id": "9IzpyubhPFtS"
      }
    },
    {
      "cell_type": "code",
      "source": [
        "thickness = int(input())\n",
        "c = 'H'\n",
        "\n",
        "for i in range(thickness):\n",
        "    print((c * i).rjust(thickness - 1) + c + (c * i).ljust(thickness - 1))\n",
        "\n",
        "for i in range(thickness + 1):\n",
        "    print((c * thickness).center(thickness * 2) + (c * thickness).center(thickness * 6))\n",
        "\n",
        "for i in range((thickness + 1) // 2):\n",
        "    print((c * thickness * 5).center(thickness * 6))\n",
        "\n",
        "for i in range(thickness + 1):\n",
        "    print((c * thickness).center(thickness * 2) + (c * thickness).center(thickness * 6))\n",
        "\n",
        "for i in range(thickness):\n",
        "    print(((c * (thickness - i - 1)).rjust(thickness) + c + (c * (thickness - i - 1)).ljust(thickness)).rjust(thickness * 6))"
      ],
      "metadata": {
        "colab": {
          "base_uri": "https://localhost:8080/"
        },
        "id": "EpV8djejPRdR",
        "outputId": "eb3d9104-34f6-4a8c-8736-c7f2dedf01c7"
      },
      "execution_count": 3,
      "outputs": [
        {
          "output_type": "stream",
          "name": "stdout",
          "text": [
            "5\n",
            "    H    \n",
            "   HHH   \n",
            "  HHHHH  \n",
            " HHHHHHH \n",
            "HHHHHHHHH\n",
            "  HHHHH               HHHHH             \n",
            "  HHHHH               HHHHH             \n",
            "  HHHHH               HHHHH             \n",
            "  HHHHH               HHHHH             \n",
            "  HHHHH               HHHHH             \n",
            "  HHHHH               HHHHH             \n",
            "  HHHHHHHHHHHHHHHHHHHHHHHHH   \n",
            "  HHHHHHHHHHHHHHHHHHHHHHHHH   \n",
            "  HHHHHHHHHHHHHHHHHHHHHHHHH   \n",
            "  HHHHH               HHHHH             \n",
            "  HHHHH               HHHHH             \n",
            "  HHHHH               HHHHH             \n",
            "  HHHHH               HHHHH             \n",
            "  HHHHH               HHHHH             \n",
            "  HHHHH               HHHHH             \n",
            "                    HHHHHHHHH \n",
            "                     HHHHHHH  \n",
            "                      HHHHH   \n",
            "                       HHH    \n",
            "                        H     \n"
          ]
        }
      ]
    },
    {
      "cell_type": "markdown",
      "source": [
        "**3.Python has built-in string validation methods for basic data. It can check if a string is composed of alphabetical characters, alphanumeric characters, digits, etc.\n",
        "str.isalnum()\n",
        "This method checks if all the characters of a string are alphanumeric (a-z, A-Z and 0-9).\n",
        "print 'ab123'.isalnum()\n",
        "True,\n",
        "print 'ab123#'.isalnum()\n",
        "False,\n",
        "str.isalpha()\n",
        "This method checks if all the characters of a string are alphabetical (a-z and A-Z).\n",
        "print 'abcD'.isalpha()\n",
        "True,\n",
        "print 'abcd1'.isalpha()\n",
        "False,\n",
        "str.isdigit()\n",
        "This method checks if all the characters of a string are digits (0-9).\n",
        "print '1234'.isdigit()\n",
        "True,\n",
        "print '123edsd'.isdigit()\n",
        "False\n",
        "str.islower()\n",
        "This method checks if all the characters of a string are lowercase characters (a-z).\n",
        "print 'abcd123#'.islower()\n",
        "True,\n",
        "print 'Abcd123#'.islower()\n",
        "False\n",
        "str.isupper()\n",
        "This method checks if all the characters of a string are uppercase characters (A-Z).\n",
        "print 'ABCD123#'.isupper()\n",
        "True,\n",
        "print 'Abcd123#'.isupper()\n",
        "False\n",
        "Task\n",
        "You are given a string .\n",
        "Your task is to find out if the string  contains: alphanumeric characters, alphabetical characters, digits, lowercase and uppercase characters.\n",
        "Input Format:\n",
        "A single line containing a string .\n",
        "Constraints:\n",
        "Output Format:\n",
        "In the first line, print True if  has any alphanumeric characters. Otherwise, print False.\n",
        "In the second line, print True if  has any alphabetical characters. Otherwise, print False.\n",
        "In the third line, print True if  has any digits. Otherwise, print False.\n",
        "In the fourth line, print True if  has any lowercase characters. Otherwise, print False.\n",
        "In the fifth line, print True if  has any uppercase characters. Otherwise, print False.\n",
        "Sample Input:\n",
        "qA2\n",
        "Sample Output:\n",
        "True\n",
        "True\n",
        "True\n",
        "True\n",
        "True**"
      ],
      "metadata": {
        "id": "zD6fCy-aPW9s"
      }
    },
    {
      "cell_type": "code",
      "source": [
        "s = input()\n",
        "print(any(c.isalnum() for c in s))\n",
        "print(any(c.isalpha() for c in s))\n",
        "print(any(c.isdigit() for c in s))\n",
        "print(any(c.islower() for c in s))\n",
        "print(any(c.isupper() for c in s))"
      ],
      "metadata": {
        "colab": {
          "base_uri": "https://localhost:8080/"
        },
        "id": "oKstwEPpPmdD",
        "outputId": "0f98605e-a612-46fc-d6f8-425728ba4851"
      },
      "execution_count": 4,
      "outputs": [
        {
          "output_type": "stream",
          "name": "stdout",
          "text": [
            "qA2\n",
            "True\n",
            "True\n",
            "True\n",
            "True\n",
            "True\n"
          ]
        }
      ]
    },
    {
      "cell_type": "markdown",
      "source": [
        "**4.In this challenge, the user enters a string and a substring. You have to print the number of times that the substring occurs in the given string. String traversal will take place from left to right, not from right to left.\n",
        "NOTE: String letters are case-sensitive.\n",
        "Input Format:\n",
        "The first line of input contains the original string. The next line contains the substring.\n",
        "Constraints:\n",
        "Each character in the string is an ascii character.\n",
        "Output Format:\n",
        "Output the integer number indicating the total number of occurrences of the substring in the original string.\n",
        "Sample Input:\n",
        "ABCDCDC\n",
        "CDC\n",
        "Sample Output:\n",
        "2\n",
        "Concept\n",
        "Some string processing examples, such as these, might be useful.\n",
        "There are a couple of new concepts:\n",
        "In Python, the length of a string is found by the function len(s), where  is the string.\n",
        "To traverse through the length of a string, use a for loop:\n",
        "for i in range(0, len(s)):\n",
        "print (s[i])\n",
        "A range function is used to loop over some length:\n",
        "range (0, 5)\n",
        "Here, the range loops over to n.is excluded.**"
      ],
      "metadata": {
        "id": "SXhcTctOP0Dc"
      }
    },
    {
      "cell_type": "code",
      "source": [
        "def count_substring(string, sub_string):\n",
        "    count = 0\n",
        "    start = 0\n",
        "\n",
        "    while True:\n",
        "        start = string.find(sub_string, start)\n",
        "        if start == -1:\n",
        "            break\n",
        "        count += 1\n",
        "        start += 1\n",
        "    return count\n",
        "\n",
        "\n",
        "if __name__ == '__main__':\n",
        "    string = input().strip()\n",
        "    sub_string = input().strip()\n",
        "\n",
        "    count = count_substring(string, sub_string)\n",
        "    print(count)"
      ],
      "metadata": {
        "colab": {
          "base_uri": "https://localhost:8080/"
        },
        "id": "GepL5XkmP2Ri",
        "outputId": "577c1ffc-727c-42e2-d005-e62a0e2f7764"
      },
      "execution_count": 5,
      "outputs": [
        {
          "output_type": "stream",
          "name": "stdout",
          "text": [
            "ABCDCDC\n",
            "CDC\n",
            "2\n"
          ]
        }
      ]
    },
    {
      "cell_type": "markdown",
      "source": [
        "**5.We have seen that lists are mutable (they can be changed), and tuples are immutable (they cannot be changed).\n",
        "Let's try to understand this with an example.\n",
        "You are given an immutable string, and you want to make changes to it.\n",
        "Example:\n",
        "string = \"abracadabra\",\n",
        "You can access an index by:\n",
        "print string[5],\n",
        "a\n",
        "What if you would like to assign a value?\n",
        "string[5] = 'k'\n",
        "Traceback (most recent call last):\n",
        "File\"<stdin>\",line 1, in<module>\n",
        "TypeError: 'str' object does not support item assignment\n",
        "How would you approach this?\n",
        "One solution is to convert the string to a list and then change the value.\n",
        "Example\n",
        "string = \"abracadabra\"\n",
        "l = list(string)\n",
        "l[5] = 'k'\n",
        "string = ''.join(l)\n",
        "print string\n",
        "abrackdabra\n",
        "Another approach is to slice the string and join it back.\n",
        "Example\n",
        "string = string[:5] + \"k\" + string[6:],\n",
        "print string\n",
        "abrackdabra.\n",
        "Task\n",
        "Read a given string, change the character at a given index and then print the modified string.\n",
        "Function Description:\n",
        "Complete the mutate_string function in the editor below.\n",
        "mutate_string has the following parameters:\n",
        "string string: the string to change\n",
        "int position: the index to insert the character at\n",
        "string character: the character to insert\n",
        "Returns:\n",
        "string: the altered string\n",
        "Input Format:\n",
        "The first line contains a string, .\n",
        "The next line contains an integer s,the index location and a string , separated by a space.\n",
        "Sample Input:\n",
        "STDIN           Function\n",
        "abracadabra     s = 'abracadabra'\n",
        "5 k             position = 5, character = 'k'\n",
        "Sample Output:\n",
        "abrackdabra**"
      ],
      "metadata": {
        "id": "uJDG6P_pQRW8"
      }
    },
    {
      "cell_type": "code",
      "source": [
        "def mutate_string(string, position, character):\n",
        "    modified_string = string[:position] + character + string[position + 1:]\n",
        "    return modified_string\n",
        "\n",
        "if __name__ == '__main__':\n",
        "    s = input()\n",
        "    i, c = input().split()\n",
        "    s_new = mutate_string(s, int(i), c)\n",
        "    print(s_new)"
      ],
      "metadata": {
        "colab": {
          "base_uri": "https://localhost:8080/"
        },
        "id": "neYEZ7E0QVWc",
        "outputId": "36ddf302-1443-4bf6-d1d5-4a8af5c4bbc1"
      },
      "execution_count": 10,
      "outputs": [
        {
          "output_type": "stream",
          "name": "stdout",
          "text": [
            "abracadabra\n",
            "5 k\n",
            "abrackdabra\n"
          ]
        }
      ]
    }
  ]
}