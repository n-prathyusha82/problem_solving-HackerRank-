{
  "nbformat": 4,
  "nbformat_minor": 0,
  "metadata": {
    "colab": {
      "provenance": [],
      "authorship_tag": "ABX9TyNXdzq5xzpfq0sBerPa6ZGm",
      "include_colab_link": true
    },
    "kernelspec": {
      "name": "python3",
      "display_name": "Python 3"
    },
    "language_info": {
      "name": "python"
    }
  },
  "cells": [
    {
      "cell_type": "markdown",
      "metadata": {
        "id": "view-in-github",
        "colab_type": "text"
      },
      "source": [
        "<a href=\"https://colab.research.google.com/github/n-prathyusha82/problem_solving-HackerRank-/blob/main/python_day2.ipynb\" target=\"_parent\"><img src=\"https://colab.research.google.com/assets/colab-badge.svg\" alt=\"Open In Colab\"/></a>"
      ]
    },
    {
      "cell_type": "markdown",
      "source": [
        "**1.A set is an unordered collection of elements without duplicate entries.\n",
        "When printed, iterated or converted into a sequence, its elements will appear in an arbitrary order.\n",
        "Example:\n",
        "print set()\n",
        "set([])\n",
        "print set('HackerRank')\n",
        "set(['a', 'c', 'e', 'H', 'k', 'n', 'r', 'R'])\n",
        "print set([1,2,1,2,3,4,5,6,0,9,12,22,3])\n",
        "set([0, 1, 2, 3, 4, 5, 6, 9, 12, 22])\n",
        "print set((1,2,3,4,5,5))\n",
        "set([1, 2, 3, 4, 5])\n",
        "print set(set(['H','a','c','k','e','r','r','a','n','k']))\n",
        "set(['a', 'c', 'r', 'e', 'H', 'k', 'n'])\n",
        "print set({'Hacker' : 'DOSHI', 'Rank' : 616 })\n",
        "set(['Hacker', 'Rank'])\n",
        "print set(enumerate(['H','a','c','k','e','r','r','a','n','k']))\n",
        "set([(6, 'r'), (7, 'a'), (3, 'k'), (4, 'e'), (5, 'r'), (9, 'k'), (2, 'c'), (0, 'H'), (1, 'a'), (8, 'n')])\n",
        "Basically, sets are used for membership testing and eliminating duplicate entries.\n",
        "Task:\n",
        "Now,let's use our knowledge of sets and help Mickey.\n",
        "Ms.Gabriel Williams is a botany professor at District College. One day, she asked her student Mickey to compute the average of all the plants with distinct heights in her greenhouse.\n",
        "Formula used:\n",
        "Function Description:\n",
        "Complete the average function in the editor below.\n",
        "average has the following parameters:\n",
        "int arr: an array of integers\n",
        "Returns:\n",
        "float: the resulting float value rounded to 3 places after the decimal\n",
        "Input Format:\n",
        "The first line contains the integer, , the size of n.\n",
        "The second line contains the  space-separated integers, .\n",
        "Constraints\n",
        "Sample Input:\n",
        "STDIN Function\n",
        "10.arr[] size N = 10\n",
        "161 182 161 154 176 170 167 171 170 174 arr = [161, 181, ..., 174]\n",
        "Sample Output:\n",
        "169.375**"
      ],
      "metadata": {
        "id": "mMbGjPsAWsJw"
      }
    },
    {
      "cell_type": "code",
      "source": [
        "def average(array):\n",
        "  height_distinct = set(arr)\n",
        "  return round(sum(height_distinct) / len(height_distinct), 3)\n",
        "n = int(input())\n",
        "arr = list(map(int, input().split()))\n",
        "result = average(arr)\n",
        "print(result)"
      ],
      "metadata": {
        "colab": {
          "base_uri": "https://localhost:8080/"
        },
        "id": "hKUJt92FXjAl",
        "outputId": "258a5822-944d-44e2-c5c3-31b94ade2bbd"
      },
      "execution_count": 1,
      "outputs": [
        {
          "output_type": "stream",
          "name": "stdout",
          "text": [
            "10\n",
            "161 182 161 154 176 170 167 171 170 174\n",
            "169.375\n"
          ]
        }
      ]
    },
    {
      "cell_type": "markdown",
      "source": [
        "**2.Objective\n",
        "Today, we're learning about a new data type: sets.\n",
        "Concept:\n",
        "If the inputs are given on one line separated by a character (the delimiter), use split() to get the separate values in the form of a list. The delimiter is space (ascii 32) by default. To specify that comma is the delimiter, use string.split(','). For this challenge, and in general on HackerRank, space will be the delimiter.\n",
        "Usage:\n",
        "a = raw_input()\n",
        "5 4 3 2\n",
        "lis = a.split()\n",
        "print (lis)\n",
        "['5', '4', '3', '2']\n",
        "If the list values are all integer types, use the map() method to convert all the strings to integers.\n",
        "newlis = list(map(int, lis))\n",
        "print (newlis),\n",
        "[5, 4, 3, 2],\n",
        "Sets are an unordered collection of unique values. A single set contains values of any immutable data type.\n",
        "CREATING SETS:\n",
        "myset = {1, 2} # Directly assigning values to a set\n",
        "myset = set()  # Initializing a set\n",
        "myset = set(['a', 'b']) # Creating a set from a list\n",
        "myset,\n",
        "{'a', 'b'}\n",
        "MODIFYING SETS:\n",
        "Using the add() function:\n",
        "myset.add('c')\n",
        "myset\n",
        "{'a', 'c', 'b'}\n",
        "myset.add('a') # As 'a' already exists in the set, nothing happens\n",
        "myset.add((5, 4))\n",
        "myset\n",
        "{'a', 'c', 'b', (5, 4)}\n",
        "Using the update() function:\n",
        "myset.update([1, 2, 3, 4]) # update() only works for iterable objects\n",
        "myset:\n",
        "{'a', 1, 'c', 'b', 4, 2, (5, 4), 3}\n",
        "myset.update({1, 7, 8})\n",
        "myset\n",
        "{'a', 1, 'c', 'b', 4, 7, 8, 2, (5, 4), 3}\n",
        "myset.update({1, 6}, [5, 13])\n",
        "myset,\n",
        "{'a', 1, 'c', 'b', 4, 5, 6, 7, 8, 2, (5, 4), 13, 3}\n",
        "REMOVING ITEMS:\n",
        "Both the discard() and remove() functions take a single value as an argument and removes that value from the set. If that value is not present, discard() does nothing, but remove() will raise a KeyError exception.\n",
        "myset.discard(10)\n",
        "myset,\n",
        "{'a', 1, 'c', 'b', 4, 5, 7, 8, 2, 12, (5, 4), 13, 11, 3}\n",
        "myset.remove(13)\n",
        "myset,\n",
        "{'a', 1, 'c', 'b', 4, 5, 7, 8, 2, 12, (5, 4), 11, 3}\n",
        "COMMON SET OPERATIONS Using union(), intersection() and difference() functions.\n",
        "a = {2, 4, 5, 9}\n",
        "b = {2, 4, 11, 12}\n",
        "a.union(b) # Values which exist in a or b\n",
        "{2, 4, 5, 9, 11, 12}\n",
        "a.intersection(b) # Values which exist in a and b\n",
        "{2, 4}\n",
        "a.difference(b) # Values which exist in a but not in b\n",
        "{9, 5}\n",
        "The union() and intersection() functions are symmetric methods:\n",
        "a.union(b) == b.union(a)\n",
        "True\n",
        "a.intersection(b) == b.intersection(a)\n",
        "True\n",
        "a.difference(b) == b.difference(a)\n",
        "False\n",
        "These other built-in data structures in Python are also useful.\n",
        "Task:\n",
        "Given sets of integers,  and , print their symmetric difference in ascending order.The term symmetric difference indicates those values that exist in either or but do not exist in both.\n",
        "Input Format:\n",
        "The first line of input contains an integer,n.\n",
        "The second line contains  space-separated integers.\n",
        "The third line contains an integer,n.\n",
        "The fourth line contains  space-separated integers.\n",
        "Output Format:\n",
        "Output the symmetric difference integers in ascending order,one per line.\n",
        "Sample Input:\n",
        "STDIN,Function\n",
        "4           \n",
        "2 4 5 9,\n",
        "4           \n",
        "2 4 11 12,\n",
        "set a size M = 4,\n",
        "a = {2, 4, 5, 9},\n",
        "set b size N = 4\n",
        "b = {2, 4, 11, 12}\n",
        "Sample Output:\n",
        "5\n",
        "9\n",
        "11\n",
        "12**"
      ],
      "metadata": {
        "id": "lsey-8aDbG7o"
      }
    },
    {
      "cell_type": "code",
      "source": [
        "M = int(input())\n",
        "A = set(map(int, input().split()))\n",
        "N = int(input())\n",
        "B = set(map(int, input().split()))\n",
        "result = sorted(A.symmetric_difference(B))\n",
        "for num in result:\n",
        "  print(num)"
      ],
      "metadata": {
        "colab": {
          "base_uri": "https://localhost:8080/"
        },
        "id": "cAxInn2rc6lm",
        "outputId": "9bc6f3fd-9c8a-411c-adaa-fcbca98160ec"
      },
      "execution_count": 2,
      "outputs": [
        {
          "output_type": "stream",
          "name": "stdout",
          "text": [
            "4\n",
            "2 4 5 9\n",
            "4\n",
            "2 4 11 12\n",
            "5\n",
            "9\n",
            "11\n",
            "12\n"
          ]
        }
      ]
    },
    {
      "cell_type": "markdown",
      "source": [
        "**3.Problem Statement: A palindrome is a sequence of characters that has the property of reading the same in either direction. You are given a function. charConvertToPalindrome(charstr): The function accepts a string 'str'.Implement the function to find and return the min characters requried to append at the end of string 'str' to make it palindrome.**"
      ],
      "metadata": {
        "id": "E1tMCxA3eeP3"
      }
    },
    {
      "cell_type": "code",
      "source": [
        "def ConvertToPalindrome(l):\n",
        "  le=len(l)\n",
        "  for i in range(le):\n",
        "    le=len(l)\n",
        "    if l[i]!=l[le-i-1]:\n",
        "      l.insert(le-i,l[i])\n",
        "    else:\n",
        "      break\n",
        "    s=\"\".join(l)\n",
        "    if s==s[::-1]:\n",
        "      s=s.replace(s1,\"\")\n",
        "      return s\n",
        "s1=input().strip()\n",
        "l=list(s1)\n",
        "print(ConvertToPalindrome(l))"
      ],
      "metadata": {
        "colab": {
          "base_uri": "https://localhost:8080/"
        },
        "id": "Zfqvi4WWegqy",
        "outputId": "6dae1af2-96e6-4637-ab59-a36747ecdf90"
      },
      "execution_count": 3,
      "outputs": [
        {
          "output_type": "stream",
          "name": "stdout",
          "text": [
            "abaa\n",
            "None\n"
          ]
        }
      ]
    },
    {
      "cell_type": "markdown",
      "source": [
        "**4..problem statment: Implement of following function int OddEvenSum(int num). The function output a non-negative integer 'num'as its argument.Implement the function to find the sum of all odd digits and sum of all digits of 'num' and return summ without value is greater.**"
      ],
      "metadata": {
        "id": "SOrYoSCdelMU"
      }
    },
    {
      "cell_type": "code",
      "source": [
        "def smallestCharacter(s):\n",
        "  freq = [0] * 26\n",
        "  for i in s:\n",
        "    freq[ord(i) - ord('a')] += 1\n",
        "\n",
        "  for i in range(0,26):\n",
        "    if(freq[i] ==0):\n",
        "      return chr(ord('a') + i)\n",
        "s=input()\n",
        "print(smallestCharacter(s))"
      ],
      "metadata": {
        "colab": {
          "base_uri": "https://localhost:8080/"
        },
        "id": "ao3Q2mALeu-g",
        "outputId": "0cd80822-02d4-448d-fadc-1158d7e1e89b"
      },
      "execution_count": 4,
      "outputs": [
        {
          "output_type": "stream",
          "name": "stdout",
          "text": [
            "aba\n",
            "c\n"
          ]
        }
      ]
    },
    {
      "cell_type": "markdown",
      "source": [
        "**5.N-base notation is a system for writing numbers which uses only n different symbols, This symbols are the first n symbols from the given notation list(Including the symbol for o) Decimal to n base notation are (0:0, 1:1, 2:2, 3:3, 4:4, 5:5, 6:6, 7:7, 8:8, 9:9, 10:A,11:B and so on upto 35:Z)\n",
        "Implement the following function, Char* DectoNBase(int n, int num):\n",
        "The function accept positive integer n and num Implement the function to calculate the n-base equivalent of num and return the same as a string\n",
        "Steps:\n",
        "Divide the decimal number by n,Treat the division as the integer division Write the the remainder (in n-base notation) Divide the quotient again by n, Treat the division as integer division Repeat step 2 and 3 until the quotient is 0 The n-base value is the sequence of the remainders from last to first Assumption:\n",
        "1 < n < = 36\n",
        "Example:\n",
        "Input:\n",
        "n: 12,\n",
        "num: 718\n",
        "Output:\n",
        "4BA\n",
        "Explanation:\n",
        "num Divisor quotient remainder\n",
        "718 12 59 10(A),\n",
        "59 12 4 11(B),\n",
        "4 12 0 4(4)\n",
        "Sample Input:\n",
        "n: 21\n",
        "num: 5678\n",
        "Sample Output\n",
        "CI8**"
      ],
      "metadata": {
        "id": "pbzxDNbdfI4y"
      }
    },
    {
      "cell_type": "code",
      "source": [
        "def DectoNBase(n, num):\n",
        "    if n < 2 or n > 36:\n",
        "        return \"Error:Base out of range\"\n",
        "    symbols = \"0123456789ABCDEFGHIJKLMNOPQRSTUVWXYZ\"\n",
        "    if num == 0:\n",
        "        return \"0\"\n",
        "    result = \"\"\n",
        "    while num > 0:\n",
        "        result = symbols[num % n] + result\n",
        "        num //= n\n",
        "    return result\n",
        "n = int(input(\"n: \"))\n",
        "num = int(input(\"num: \"))\n",
        "print(DectoNBase(n, num))"
      ],
      "metadata": {
        "colab": {
          "base_uri": "https://localhost:8080/"
        },
        "id": "Qb8_BIt0fiDV",
        "outputId": "d4214f18-0a3c-4799-9326-7290e4f5b38b"
      },
      "execution_count": 6,
      "outputs": [
        {
          "output_type": "stream",
          "name": "stdout",
          "text": [
            "n: 21\n",
            "num: 5678\n",
            "CI8\n"
          ]
        }
      ]
    },
    {
      "cell_type": "markdown",
      "source": [
        "**6.Given two ranges(L1,R1)and(L2,R2).You need to find two numbers a and b,such that L1<=b<=R1 and L2<=B<=R2 and the product of a and b is max. I/P Format: The i/p consists of a single line. The lines contains four space-separated integers denoting L1,L2,R1,R2 respectively.**"
      ],
      "metadata": {
        "id": "LrXmFxg9futb"
      }
    },
    {
      "cell_type": "code",
      "source": [
        "def Maxproduct(l1,l2,r1,r2):\n",
        "  max_1 = max(l1,r1)\n",
        "  max_2 = max(l2,r2)\n",
        "  result = max_1 * max_2\n",
        "  return result\n",
        "l1,l2,r1,r2=list(map(int,input().split()))\n",
        "print(Maxproduct(l1,l2,r1,r2))"
      ],
      "metadata": {
        "colab": {
          "base_uri": "https://localhost:8080/"
        },
        "id": "Yfn7S9TPfw2r",
        "outputId": "011c64d7-1a73-462a-af36-f57a7e661a7e"
      },
      "execution_count": 7,
      "outputs": [
        {
          "output_type": "stream",
          "name": "stdout",
          "text": [
            "3 7 5 6\n",
            "35\n"
          ]
        }
      ]
    }
  ]
}