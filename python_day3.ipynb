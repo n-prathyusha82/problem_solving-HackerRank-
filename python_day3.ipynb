{
  "nbformat": 4,
  "nbformat_minor": 0,
  "metadata": {
    "colab": {
      "provenance": [],
      "authorship_tag": "ABX9TyPT8Vwj/We9s64Il3xcrtsh",
      "include_colab_link": true
    },
    "kernelspec": {
      "name": "python3",
      "display_name": "Python 3"
    },
    "language_info": {
      "name": "python"
    }
  },
  "cells": [
    {
      "cell_type": "markdown",
      "metadata": {
        "id": "view-in-github",
        "colab_type": "text"
      },
      "source": [
        "<a href=\"https://colab.research.google.com/github/n-prathyusha82/problem_solving-HackerRank-/blob/main/python_day3.ipynb\" target=\"_parent\"><img src=\"https://colab.research.google.com/assets/colab-badge.svg\" alt=\"Open In Colab\"/></a>"
      ]
    },
    {
      "cell_type": "markdown",
      "source": [
        "**1.You are given a set  and  other sets.\n",
        "Your job is to find whether set  is a strict superset of each of the  sets.\n",
        "Print True, if  is a strict superset of each of the  sets. Otherwise, print False.\n",
        "A strict superset has at least one element that does not exist in its subset.\n",
        "Example:\n",
        "Set is a strict superset of set.\n",
        "Set is not a strict superset of set.\n",
        "Set is not a strict superset of set.\n",
        "Input Format:\n",
        "The first line contains the space separated elements of set .\n",
        "The second line contains integer , the number of other sets.\n",
        "The next  lines contains the space separated elements of the other sets.\n",
        "Constraints:\n",
        "Output Format:\n",
        "Print True if set  is a strict superset of all other  sets. Otherwise, print False.\n",
        "Sample Input 0:\n",
        "1 2 3 4 5 6 7 8 9 10 11 12 23 45 84 78\n",
        "2\n",
        "1 2 3 4 5\n",
        "100 11 12\n",
        "Sample Output 0\n",
        "False**"
      ],
      "metadata": {
        "id": "8snrffA1aCAF"
      }
    },
    {
      "cell_type": "code",
      "source": [
        "A = set(input().split())\n",
        "n = int(input())\n",
        "result = all(A > set(input().split()) for _ in range(n))\n",
        "print(result)"
      ],
      "metadata": {
        "colab": {
          "base_uri": "https://localhost:8080/"
        },
        "id": "AI2JKYMraS6Y",
        "outputId": "b793a0d2-c78b-493f-96d3-0ff25e672631"
      },
      "execution_count": 1,
      "outputs": [
        {
          "output_type": "stream",
          "name": "stdout",
          "text": [
            "1 2 3 4 5 6 7 8 9 10 11 12 23 45 84 78 \n",
            "2\n",
            "1 2 3 4 5\n",
            "100 11 12\n",
            "False\n"
          ]
        }
      ]
    },
    {
      "cell_type": "markdown",
      "source": [
        "**2.You are given two sets,  and .\n",
        "Your job is to find whether set  is a subset of set.\n",
        "If set  is subset of set , print True.\n",
        "If set  is not a subset of set , print False.\n",
        "Input Format:\n",
        "The first line will contain the number of test cases,s.\n",
        "The first line of each test case contains the number of elements in set .\n",
        "The second line of each test case contains the space separated elements of set s.\n",
        "The third line of each test case contains the number of elements in set .\n",
        "The fourth line of each test case contains the space separated elements of set n.\n",
        "Constraints:\n",
        "Output Format:\n",
        "Output True or False for each test case on separate lines.\n",
        "Sample Input:\n",
        "3\n",
        "5\n",
        "1 2 3 5 6\n",
        "9\n",
        "9 8 5 6 3 2 1 4 7\n",
        "1\n",
        "2\n",
        "5\n",
        "3 6 5 4 1\n",
        "7\n",
        "1 2 3 5 6 8 9\n",
        "3\n",
        "9 8 2\n",
        "Sample Output:\n",
        "True\n",
        "False\n",
        "False**"
      ],
      "metadata": {
        "id": "Gli_MYZqbE3P"
      }
    },
    {
      "cell_type": "code",
      "source": [
        "t = int(input())\n",
        "for _ in range(t):\n",
        "    a_size = int(input())\n",
        "    a = set(map(int, input().split()))\n",
        "    b_size = int(input())\n",
        "    b = set(map(int, input().split()))\n",
        "    print(a.issubset(b))"
      ],
      "metadata": {
        "colab": {
          "base_uri": "https://localhost:8080/"
        },
        "id": "51lcYdeybq-i",
        "outputId": "68dcb484-32be-4004-923b-5dd47fa71a75"
      },
      "execution_count": 2,
      "outputs": [
        {
          "output_type": "stream",
          "name": "stdout",
          "text": [
            "3\n",
            "5\n",
            "1 2 3 5 6\n",
            "9\n",
            "9 8 5 6 3 2 1 4 7\n",
            "True\n",
            "1\n",
            "2\n",
            "5\n",
            "3 6 5 4 1\n",
            "False\n",
            "7\n",
            "1 2 3 5 6 8 9\n",
            "7\n",
            "1 2 3 5 6 8 9\n",
            "True\n"
          ]
        }
      ]
    },
    {
      "cell_type": "markdown",
      "source": [
        "**3. Operation Choices Write a function OperationChoices(c, a, b) which will accept three integers as an argument, and the function will return: (a + b) if the value of c=1. (a – b) if the value of c=2. (a * b) if the value of c=3. (a / b) if the value of c=4. Sample Test Case: Input: 2 15 20 Output: -55. Operation Choices Write a function OperationChoices(c, a, b) which will accept three integers as an argument, and the function will return: (a + b) if the value of c=1. (a – b) if the value of c=2. (a * b) if the value of c=3. (a / b) if the value of c=4. Sample Test Case: Input: 2 15 20 Output: -5t**"
      ],
      "metadata": {
        "id": "mk12ZSe0d5hY"
      }
    },
    {
      "cell_type": "code",
      "source": [
        "def operationchoices(c, a, b):\n",
        "  if c == 1:\n",
        "    return a + b\n",
        "  elif c == 2:\n",
        "    return a - b\n",
        "  elif c == 3:\n",
        "    return a * b\n",
        "  elif c == 4:\n",
        "    return a / b\n",
        "  else:\n",
        "    return \"INVALID\"\n",
        "c = int(input())\n",
        "a = int(input())\n",
        "b = int(input())\n",
        "print(operationchoices(c, a, b))"
      ],
      "metadata": {
        "colab": {
          "base_uri": "https://localhost:8080/"
        },
        "id": "br7PBPxRd86R",
        "outputId": "d05c82cd-5b85-44a3-9b1f-731fd9be02c6"
      },
      "execution_count": 3,
      "outputs": [
        {
          "output_type": "stream",
          "name": "stdout",
          "text": [
            "3\n",
            "15\n",
            "20\n",
            "300\n"
          ]
        }
      ]
    },
    {
      "cell_type": "markdown",
      "source": [
        "**4.MATHS IS FUN You are required to implement the following function: int Calculate(int m, int n); The function accepts 2 positive integers ‘m’ and ‘n’ as its arguments.You are required to calculate the sum of numbers divisible both by 3 and 5, between ‘m’ and ‘n’ both inclusive and return the same. Note 0 < m <= n Example Input: m : 12 n : 50 Output 90 Explanation: The numbers divisible by both 3 and 5, between 12 and 50 both inclusive are {15, 30, 45} and their sum is 90. Sample Input m : 100 n : 160 Sample Output 510**"
      ],
      "metadata": {
        "id": "-LbAF-hyeTb3"
      }
    },
    {
      "cell_type": "code",
      "source": [
        "def calculate(m, n):\n",
        "  return sum(i for i in range(m, n + 1) if i % 3 == 0 and i % 5 == 0)\n",
        "m = int(input(\"m: \"))\n",
        "n = int(input(\"n: \"))\n",
        "print(calculate(m, n))"
      ],
      "metadata": {
        "colab": {
          "base_uri": "https://localhost:8080/"
        },
        "id": "jvzR2s4reYBG",
        "outputId": "ac34469a-9a78-4378-eeeb-2eda73b4f36b"
      },
      "execution_count": 5,
      "outputs": [
        {
          "output_type": "stream",
          "name": "stdout",
          "text": [
            "m: 100\n",
            "n: 160\n",
            "510\n"
          ]
        }
      ]
    },
    {
      "cell_type": "markdown",
      "source": [
        "**5. Given a string you are requested to determine whether the string should be converted to all uppercase or all lowercase, depending on the count of uppercase and lowercase letter in that string. ex1: AbCdEfG output1: ABCDEFG EX2:xYz output2:xyz**"
      ],
      "metadata": {
        "id": "Do67uBI8eekt"
      }
    },
    {
      "cell_type": "code",
      "source": [
        "def convert_string(s):\n",
        "  count_upper = 0\n",
        "  count_lower = 0\n",
        "  if count_upper >= count_lower:\n",
        "    return s.upper()\n",
        "  else:\n",
        "    return s.lower()\n",
        "s = input()\n",
        "print(convert_string(s))"
      ],
      "metadata": {
        "colab": {
          "base_uri": "https://localhost:8080/"
        },
        "id": "KLWGo7Zheh9d",
        "outputId": "06324b4e-baa7-4ccb-ceb2-54946154cfb2"
      },
      "execution_count": 6,
      "outputs": [
        {
          "output_type": "stream",
          "name": "stdout",
          "text": [
            "AbCdEfG\n",
            "ABCDEFG\n"
          ]
        }
      ]
    }
  ]
}